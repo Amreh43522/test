{
 "cells": [
  {
   "cell_type": "code",
   "execution_count": 1,
   "id": "6831f082",
   "metadata": {
    "execution": {
     "iopub.execute_input": "2022-06-09T22:31:25.876833Z",
     "iopub.status.busy": "2022-06-09T22:31:25.876197Z",
     "iopub.status.idle": "2022-06-09T22:31:27.031452Z",
     "shell.execute_reply": "2022-06-09T22:31:27.030733Z"
    },
    "papermill": {
     "duration": 1.19466,
     "end_time": "2022-06-09T22:31:27.031607",
     "exception": false,
     "start_time": "2022-06-09T22:31:25.836947",
     "status": "completed"
    },
    "tags": []
   },
   "outputs": [],
   "source": [
    "import numpy as np # linear algebra\n",
    "import pandas as pd # data processing, CSV file I/O (e.g. pd.read_csv)\n",
    "import seaborn as sns\n",
    "from matplotlib import pyplot as plt\n",
    "%matplotlib inline\n",
    "import os\n",
    "df = pd.read_csv(\"D:\\Data Science\\Final Project\\Cardio Project/cardio_train.csv\")\n",
    "\n",
    "from sklearn.metrics import confusion_matrix\n",
    "from sklearn.metrics import accuracy_score\n",
    "from sklearn.metrics import classification_report\n",
    "\n",
    "# supress warnings\n",
    "import warnings\n",
    "warnings.filterwarnings('ignore')"
   ]
  },
  {
   "cell_type": "code",
   "execution_count": 2,
   "id": "7bdc9e35",
   "metadata": {
    "execution": {
     "iopub.execute_input": "2022-06-09T22:31:27.098115Z",
     "iopub.status.busy": "2022-06-09T22:31:27.097505Z",
     "iopub.status.idle": "2022-06-09T22:31:27.117272Z",
     "shell.execute_reply": "2022-06-09T22:31:27.118323Z"
    },
    "papermill": {
     "duration": 0.055548,
     "end_time": "2022-06-09T22:31:27.118565",
     "exception": false,
     "start_time": "2022-06-09T22:31:27.063017",
     "status": "completed"
    },
    "tags": []
   },
   "outputs": [
    {
     "name": "stdout",
     "output_type": "stream",
     "text": [
      "<class 'pandas.core.frame.DataFrame'>\n",
      "RangeIndex: 70000 entries, 0 to 69999\n",
      "Data columns (total 13 columns):\n",
      " #   Column       Non-Null Count  Dtype  \n",
      "---  ------       --------------  -----  \n",
      " 0   id           70000 non-null  int64  \n",
      " 1   age          70000 non-null  int64  \n",
      " 2   gender       70000 non-null  int64  \n",
      " 3   height       70000 non-null  int64  \n",
      " 4   weight       70000 non-null  float64\n",
      " 5   ap_hi        70000 non-null  int64  \n",
      " 6   ap_lo        70000 non-null  int64  \n",
      " 7   cholesterol  70000 non-null  int64  \n",
      " 8   gluc         70000 non-null  int64  \n",
      " 9   smoke        70000 non-null  int64  \n",
      " 10  alco         70000 non-null  int64  \n",
      " 11  active       70000 non-null  int64  \n",
      " 12  cardio       70000 non-null  int64  \n",
      "dtypes: float64(1), int64(12)\n",
      "memory usage: 6.9 MB\n"
     ]
    }
   ],
   "source": [
    "# General info about data\n",
    "df.info()\n"
   ]
  },
  {
   "cell_type": "markdown",
   "id": "e39ac1f2",
   "metadata": {
    "papermill": {
     "duration": 0.027701,
     "end_time": "2022-06-09T22:31:27.175031",
     "exception": false,
     "start_time": "2022-06-09T22:31:27.147330",
     "status": "completed"
    },
    "tags": []
   },
   "source": [
    "All features are numerical, 12 integers and 1 decimal number (weight). The second column gives us an idea how big is the dataset and how many non-null values are there for each field. "
   ]
  },
  {
   "cell_type": "code",
   "execution_count": 3,
   "id": "4ab4f2b4",
   "metadata": {
    "execution": {
     "iopub.execute_input": "2022-06-09T22:31:27.248280Z",
     "iopub.status.busy": "2022-06-09T22:31:27.247645Z",
     "iopub.status.idle": "2022-06-09T22:31:27.255675Z",
     "shell.execute_reply": "2022-06-09T22:31:27.256431Z"
    },
    "papermill": {
     "duration": 0.05129,
     "end_time": "2022-06-09T22:31:27.256663",
     "exception": false,
     "start_time": "2022-06-09T22:31:27.205373",
     "status": "completed"
    },
    "tags": []
   },
   "outputs": [
    {
     "data": {
      "text/plain": [
       "False"
      ]
     },
     "execution_count": 3,
     "metadata": {},
     "output_type": "execute_result"
    }
   ],
   "source": [
    "# Are there any `NA`s or missing values in a dataset?\n",
    "df.isnull().values.any()"
   ]
  },
  {
   "cell_type": "code",
   "execution_count": 4,
   "id": "65299557",
   "metadata": {},
   "outputs": [
    {
     "data": {
      "text/plain": [
       "0"
      ]
     },
     "execution_count": 4,
     "metadata": {},
     "output_type": "execute_result"
    }
   ],
   "source": [
    "df.duplicated().sum()"
   ]
  },
  {
   "cell_type": "code",
   "execution_count": 5,
   "id": "51be87f0",
   "metadata": {
    "execution": {
     "iopub.execute_input": "2022-06-09T22:31:27.318622Z",
     "iopub.status.busy": "2022-06-09T22:31:27.318047Z",
     "iopub.status.idle": "2022-06-09T22:31:27.353283Z",
     "shell.execute_reply": "2022-06-09T22:31:27.352761Z"
    },
    "papermill": {
     "duration": 0.065846,
     "end_time": "2022-06-09T22:31:27.353431",
     "exception": false,
     "start_time": "2022-06-09T22:31:27.287585",
     "status": "completed"
    },
    "tags": []
   },
   "outputs": [],
   "source": [
    "#removing Outliers\n",
    "# Let's remove weights and heights, that fall below 2.5% or above 97.5% of a given range.\n",
    "df.drop(df[(df['height'] > df['height'].quantile(0.975)) | (df['height'] < df['height'].quantile(0.025))].index,inplace=True)\n",
    "df.drop(df[(df['weight'] > df['weight'].quantile(0.975)) | (df['weight'] < df['weight'].quantile(0.025))].index,inplace=True)\n",
    "df.drop(df[(df['ap_hi'] > df['ap_hi'].quantile(0.975)) | (df['ap_hi'] < df['ap_hi'].quantile(0.025))].index,inplace=True)\n",
    "df.drop(df[(df['ap_lo'] > df['ap_lo'].quantile(0.975)) | (df['ap_lo'] < df['ap_lo'].quantile(0.025))].index,inplace=True)"
   ]
  },
  {
   "cell_type": "code",
   "execution_count": 6,
   "id": "f5b8b03f",
   "metadata": {
    "execution": {
     "iopub.execute_input": "2022-06-09T22:31:27.501269Z",
     "iopub.status.busy": "2022-06-09T22:31:27.500311Z",
     "iopub.status.idle": "2022-06-09T22:31:27.505170Z",
     "shell.execute_reply": "2022-06-09T22:31:27.504639Z"
    },
    "papermill": {
     "duration": 0.037727,
     "end_time": "2022-06-09T22:31:27.505308",
     "exception": false,
     "start_time": "2022-06-09T22:31:27.467581",
     "status": "completed"
    },
    "tags": []
   },
   "outputs": [],
   "source": [
    "df = df.reset_index()"
   ]
  },
  {
   "cell_type": "code",
   "execution_count": 7,
   "id": "f08622d1",
   "metadata": {
    "execution": {
     "iopub.execute_input": "2022-06-09T22:31:27.568525Z",
     "iopub.status.busy": "2022-06-09T22:31:27.567652Z",
     "iopub.status.idle": "2022-06-09T22:31:27.570039Z",
     "shell.execute_reply": "2022-06-09T22:31:27.570483Z"
    },
    "papermill": {
     "duration": 0.037478,
     "end_time": "2022-06-09T22:31:27.570655",
     "exception": false,
     "start_time": "2022-06-09T22:31:27.533177",
     "status": "completed"
    },
    "tags": []
   },
   "outputs": [],
   "source": [
    "# to remove values more than 1.5 times the Inter Quartile Range (IQR) variable values\n",
    "def outliers_iqr(ys):\n",
    "    quartile1, quartile3 = np.percentile(ys, [25,75])\n",
    "    iqr = quartile3 - quartile1\n",
    "    lower_bound = quartile1 - (iqr*3)\n",
    "    upper_bound = quartile3 + (iqr*3)\n",
    "    \n",
    "    print(f'Q1:{quartile1}, Q3:{quartile3}, IQR:{iqr}')\n",
    "    print(f'Lower Bound:{lower_bound}, Upper Bound:{upper_bound}')\n",
    "    \n",
    "    result = np.where((ys > upper_bound) | (ys < lower_bound))\n",
    "    boundary = (lower_bound, upper_bound)\n",
    "    \n",
    "    print(f'Number of outliers: {len(result[0])}')\n",
    "    \n",
    "    return result, boundary"
   ]
  },
  {
   "cell_type": "code",
   "execution_count": 8,
   "id": "a672c6a9",
   "metadata": {
    "execution": {
     "iopub.execute_input": "2022-06-09T22:31:27.633528Z",
     "iopub.status.busy": "2022-06-09T22:31:27.632844Z",
     "iopub.status.idle": "2022-06-09T22:31:27.650823Z",
     "shell.execute_reply": "2022-06-09T22:31:27.651653Z"
    },
    "papermill": {
     "duration": 0.05278,
     "end_time": "2022-06-09T22:31:27.651942",
     "exception": false,
     "start_time": "2022-06-09T22:31:27.599162",
     "status": "completed"
    },
    "tags": []
   },
   "outputs": [
    {
     "name": "stdout",
     "output_type": "stream",
     "text": [
      "Q1:160.0, Q3:169.0, IQR:9.0\n",
      "Lower Bound:133.0, Upper Bound:196.0\n",
      "Number of outliers: 0\n"
     ]
    },
    {
     "data": {
      "text/html": [
       "<div>\n",
       "<style scoped>\n",
       "    .dataframe tbody tr th:only-of-type {\n",
       "        vertical-align: middle;\n",
       "    }\n",
       "\n",
       "    .dataframe tbody tr th {\n",
       "        vertical-align: top;\n",
       "    }\n",
       "\n",
       "    .dataframe thead th {\n",
       "        text-align: right;\n",
       "    }\n",
       "</style>\n",
       "<table border=\"1\" class=\"dataframe\">\n",
       "  <thead>\n",
       "    <tr style=\"text-align: right;\">\n",
       "      <th></th>\n",
       "      <th>index</th>\n",
       "      <th>id</th>\n",
       "      <th>age</th>\n",
       "      <th>gender</th>\n",
       "      <th>height</th>\n",
       "      <th>weight</th>\n",
       "      <th>ap_hi</th>\n",
       "      <th>ap_lo</th>\n",
       "      <th>cholesterol</th>\n",
       "      <th>gluc</th>\n",
       "      <th>smoke</th>\n",
       "      <th>alco</th>\n",
       "      <th>active</th>\n",
       "      <th>cardio</th>\n",
       "    </tr>\n",
       "  </thead>\n",
       "  <tbody>\n",
       "  </tbody>\n",
       "</table>\n",
       "</div>"
      ],
      "text/plain": [
       "Empty DataFrame\n",
       "Columns: [index, id, age, gender, height, weight, ap_hi, ap_lo, cholesterol, gluc, smoke, alco, active, cardio]\n",
       "Index: []"
      ]
     },
     "execution_count": 8,
     "metadata": {},
     "output_type": "execute_result"
    }
   ],
   "source": [
    "height_outlier_index = list(outliers_iqr(df['height'])[0][0])\n",
    "df_height_outlier = df.iloc[height_outlier_index,:]\n",
    "df_height_outlier"
   ]
  },
  {
   "cell_type": "code",
   "execution_count": 9,
   "id": "deb6082b",
   "metadata": {
    "execution": {
     "iopub.execute_input": "2022-06-09T22:31:27.718193Z",
     "iopub.status.busy": "2022-06-09T22:31:27.717500Z",
     "iopub.status.idle": "2022-06-09T22:31:27.738400Z",
     "shell.execute_reply": "2022-06-09T22:31:27.738851Z"
    },
    "papermill": {
     "duration": 0.055011,
     "end_time": "2022-06-09T22:31:27.739036",
     "exception": false,
     "start_time": "2022-06-09T22:31:27.684025",
     "status": "completed"
    },
    "tags": []
   },
   "outputs": [
    {
     "name": "stdout",
     "output_type": "stream",
     "text": [
      "Q1:65.0, Q3:80.0, IQR:15.0\n",
      "Lower Bound:20.0, Upper Bound:125.0\n",
      "Number of outliers: 0\n"
     ]
    },
    {
     "data": {
      "text/html": [
       "<div>\n",
       "<style scoped>\n",
       "    .dataframe tbody tr th:only-of-type {\n",
       "        vertical-align: middle;\n",
       "    }\n",
       "\n",
       "    .dataframe tbody tr th {\n",
       "        vertical-align: top;\n",
       "    }\n",
       "\n",
       "    .dataframe thead th {\n",
       "        text-align: right;\n",
       "    }\n",
       "</style>\n",
       "<table border=\"1\" class=\"dataframe\">\n",
       "  <thead>\n",
       "    <tr style=\"text-align: right;\">\n",
       "      <th></th>\n",
       "      <th>index</th>\n",
       "      <th>id</th>\n",
       "      <th>age</th>\n",
       "      <th>gender</th>\n",
       "      <th>height</th>\n",
       "      <th>weight</th>\n",
       "      <th>ap_hi</th>\n",
       "      <th>ap_lo</th>\n",
       "      <th>cholesterol</th>\n",
       "      <th>gluc</th>\n",
       "      <th>smoke</th>\n",
       "      <th>alco</th>\n",
       "      <th>active</th>\n",
       "      <th>cardio</th>\n",
       "    </tr>\n",
       "  </thead>\n",
       "  <tbody>\n",
       "  </tbody>\n",
       "</table>\n",
       "</div>"
      ],
      "text/plain": [
       "Empty DataFrame\n",
       "Columns: [index, id, age, gender, height, weight, ap_hi, ap_lo, cholesterol, gluc, smoke, alco, active, cardio]\n",
       "Index: []"
      ]
     },
     "execution_count": 9,
     "metadata": {},
     "output_type": "execute_result"
    }
   ],
   "source": [
    "weight_outlier_index = list(outliers_iqr(df['weight'])[0][0])\n",
    "df_weight_outlier = df.iloc[weight_outlier_index,:]\n",
    "df_weight_outlier"
   ]
  },
  {
   "cell_type": "code",
   "execution_count": 10,
   "id": "26429243",
   "metadata": {
    "execution": {
     "iopub.execute_input": "2022-06-09T22:31:27.804488Z",
     "iopub.status.busy": "2022-06-09T22:31:27.803785Z",
     "iopub.status.idle": "2022-06-09T22:31:27.823793Z",
     "shell.execute_reply": "2022-06-09T22:31:27.824247Z"
    },
    "papermill": {
     "duration": 0.054607,
     "end_time": "2022-06-09T22:31:27.824426",
     "exception": false,
     "start_time": "2022-06-09T22:31:27.769819",
     "status": "completed"
    },
    "tags": []
   },
   "outputs": [
    {
     "name": "stdout",
     "output_type": "stream",
     "text": [
      "Q1:120.0, Q3:135.0, IQR:15.0\n",
      "Lower Bound:75.0, Upper Bound:180.0\n",
      "Number of outliers: 0\n"
     ]
    },
    {
     "data": {
      "text/html": [
       "<div>\n",
       "<style scoped>\n",
       "    .dataframe tbody tr th:only-of-type {\n",
       "        vertical-align: middle;\n",
       "    }\n",
       "\n",
       "    .dataframe tbody tr th {\n",
       "        vertical-align: top;\n",
       "    }\n",
       "\n",
       "    .dataframe thead th {\n",
       "        text-align: right;\n",
       "    }\n",
       "</style>\n",
       "<table border=\"1\" class=\"dataframe\">\n",
       "  <thead>\n",
       "    <tr style=\"text-align: right;\">\n",
       "      <th></th>\n",
       "      <th>index</th>\n",
       "      <th>id</th>\n",
       "      <th>age</th>\n",
       "      <th>gender</th>\n",
       "      <th>height</th>\n",
       "      <th>weight</th>\n",
       "      <th>ap_hi</th>\n",
       "      <th>ap_lo</th>\n",
       "      <th>cholesterol</th>\n",
       "      <th>gluc</th>\n",
       "      <th>smoke</th>\n",
       "      <th>alco</th>\n",
       "      <th>active</th>\n",
       "      <th>cardio</th>\n",
       "    </tr>\n",
       "  </thead>\n",
       "  <tbody>\n",
       "  </tbody>\n",
       "</table>\n",
       "</div>"
      ],
      "text/plain": [
       "Empty DataFrame\n",
       "Columns: [index, id, age, gender, height, weight, ap_hi, ap_lo, cholesterol, gluc, smoke, alco, active, cardio]\n",
       "Index: []"
      ]
     },
     "execution_count": 10,
     "metadata": {},
     "output_type": "execute_result"
    }
   ],
   "source": [
    "ap_hi_outlier_index = list(outliers_iqr(df['ap_hi'])[0][0])\n",
    "df_aphi_outlier = df.iloc[ap_hi_outlier_index,:]\n",
    "df_aphi_outlier"
   ]
  },
  {
   "cell_type": "code",
   "execution_count": 11,
   "id": "311ab16d",
   "metadata": {
    "execution": {
     "iopub.execute_input": "2022-06-09T22:31:27.889267Z",
     "iopub.status.busy": "2022-06-09T22:31:27.888330Z",
     "iopub.status.idle": "2022-06-09T22:31:27.909667Z",
     "shell.execute_reply": "2022-06-09T22:31:27.910130Z"
    },
    "papermill": {
     "duration": 0.055101,
     "end_time": "2022-06-09T22:31:27.910305",
     "exception": false,
     "start_time": "2022-06-09T22:31:27.855204",
     "status": "completed"
    },
    "tags": []
   },
   "outputs": [
    {
     "name": "stdout",
     "output_type": "stream",
     "text": [
      "Q1:80.0, Q3:90.0, IQR:10.0\n",
      "Lower Bound:50.0, Upper Bound:120.0\n",
      "Number of outliers: 0\n"
     ]
    },
    {
     "data": {
      "text/html": [
       "<div>\n",
       "<style scoped>\n",
       "    .dataframe tbody tr th:only-of-type {\n",
       "        vertical-align: middle;\n",
       "    }\n",
       "\n",
       "    .dataframe tbody tr th {\n",
       "        vertical-align: top;\n",
       "    }\n",
       "\n",
       "    .dataframe thead th {\n",
       "        text-align: right;\n",
       "    }\n",
       "</style>\n",
       "<table border=\"1\" class=\"dataframe\">\n",
       "  <thead>\n",
       "    <tr style=\"text-align: right;\">\n",
       "      <th></th>\n",
       "      <th>index</th>\n",
       "      <th>id</th>\n",
       "      <th>age</th>\n",
       "      <th>gender</th>\n",
       "      <th>height</th>\n",
       "      <th>weight</th>\n",
       "      <th>ap_hi</th>\n",
       "      <th>ap_lo</th>\n",
       "      <th>cholesterol</th>\n",
       "      <th>gluc</th>\n",
       "      <th>smoke</th>\n",
       "      <th>alco</th>\n",
       "      <th>active</th>\n",
       "      <th>cardio</th>\n",
       "    </tr>\n",
       "  </thead>\n",
       "  <tbody>\n",
       "  </tbody>\n",
       "</table>\n",
       "</div>"
      ],
      "text/plain": [
       "Empty DataFrame\n",
       "Columns: [index, id, age, gender, height, weight, ap_hi, ap_lo, cholesterol, gluc, smoke, alco, active, cardio]\n",
       "Index: []"
      ]
     },
     "execution_count": 11,
     "metadata": {},
     "output_type": "execute_result"
    }
   ],
   "source": [
    "ap_lo_outlier_index = list(outliers_iqr(df['ap_lo'])[0][0])\n",
    "df_aplo_outlier = df.iloc[ap_lo_outlier_index,:]\n",
    "df_aplo_outlier"
   ]
  },
  {
   "cell_type": "code",
   "execution_count": 12,
   "id": "6b990a12",
   "metadata": {
    "execution": {
     "iopub.execute_input": "2022-06-09T22:31:27.978990Z",
     "iopub.status.busy": "2022-06-09T22:31:27.978016Z",
     "iopub.status.idle": "2022-06-09T22:31:27.984583Z",
     "shell.execute_reply": "2022-06-09T22:31:27.984106Z"
    },
    "papermill": {
     "duration": 0.043001,
     "end_time": "2022-06-09T22:31:27.984724",
     "exception": false,
     "start_time": "2022-06-09T22:31:27.941723",
     "status": "completed"
    },
    "tags": []
   },
   "outputs": [
    {
     "name": "stdout",
     "output_type": "stream",
     "text": [
      "0\n"
     ]
    }
   ],
   "source": [
    "all_outlier_index = height_outlier_index + weight_outlier_index + ap_hi_outlier_index + ap_lo_outlier_index\n",
    "all_outlier_index = list(set(all_outlier_index))\n",
    "print(len(all_outlier_index))"
   ]
  },
  {
   "cell_type": "code",
   "execution_count": 13,
   "id": "8b7b5fa5",
   "metadata": {
    "execution": {
     "iopub.execute_input": "2022-06-09T22:31:28.053939Z",
     "iopub.status.busy": "2022-06-09T22:31:28.053003Z",
     "iopub.status.idle": "2022-06-09T22:31:28.071516Z",
     "shell.execute_reply": "2022-06-09T22:31:28.072343Z"
    },
    "papermill": {
     "duration": 0.055774,
     "end_time": "2022-06-09T22:31:28.072645",
     "exception": false,
     "start_time": "2022-06-09T22:31:28.016871",
     "status": "completed"
    },
    "tags": []
   },
   "outputs": [
    {
     "data": {
      "text/html": [
       "<div>\n",
       "<style scoped>\n",
       "    .dataframe tbody tr th:only-of-type {\n",
       "        vertical-align: middle;\n",
       "    }\n",
       "\n",
       "    .dataframe tbody tr th {\n",
       "        vertical-align: top;\n",
       "    }\n",
       "\n",
       "    .dataframe thead th {\n",
       "        text-align: right;\n",
       "    }\n",
       "</style>\n",
       "<table border=\"1\" class=\"dataframe\">\n",
       "  <thead>\n",
       "    <tr style=\"text-align: right;\">\n",
       "      <th></th>\n",
       "      <th>index</th>\n",
       "      <th>id</th>\n",
       "      <th>age</th>\n",
       "      <th>gender</th>\n",
       "      <th>height</th>\n",
       "      <th>weight</th>\n",
       "      <th>ap_hi</th>\n",
       "      <th>ap_lo</th>\n",
       "      <th>cholesterol</th>\n",
       "      <th>gluc</th>\n",
       "      <th>smoke</th>\n",
       "      <th>alco</th>\n",
       "      <th>active</th>\n",
       "      <th>cardio</th>\n",
       "    </tr>\n",
       "  </thead>\n",
       "  <tbody>\n",
       "    <tr>\n",
       "      <th>0</th>\n",
       "      <td>0</td>\n",
       "      <td>0</td>\n",
       "      <td>18393</td>\n",
       "      <td>2</td>\n",
       "      <td>168</td>\n",
       "      <td>62.0</td>\n",
       "      <td>110</td>\n",
       "      <td>80</td>\n",
       "      <td>1</td>\n",
       "      <td>1</td>\n",
       "      <td>0</td>\n",
       "      <td>0</td>\n",
       "      <td>1</td>\n",
       "      <td>0</td>\n",
       "    </tr>\n",
       "    <tr>\n",
       "      <th>1</th>\n",
       "      <td>1</td>\n",
       "      <td>1</td>\n",
       "      <td>20228</td>\n",
       "      <td>1</td>\n",
       "      <td>156</td>\n",
       "      <td>85.0</td>\n",
       "      <td>140</td>\n",
       "      <td>90</td>\n",
       "      <td>3</td>\n",
       "      <td>1</td>\n",
       "      <td>0</td>\n",
       "      <td>0</td>\n",
       "      <td>1</td>\n",
       "      <td>1</td>\n",
       "    </tr>\n",
       "    <tr>\n",
       "      <th>2</th>\n",
       "      <td>2</td>\n",
       "      <td>2</td>\n",
       "      <td>18857</td>\n",
       "      <td>1</td>\n",
       "      <td>165</td>\n",
       "      <td>64.0</td>\n",
       "      <td>130</td>\n",
       "      <td>70</td>\n",
       "      <td>3</td>\n",
       "      <td>1</td>\n",
       "      <td>0</td>\n",
       "      <td>0</td>\n",
       "      <td>0</td>\n",
       "      <td>1</td>\n",
       "    </tr>\n",
       "    <tr>\n",
       "      <th>3</th>\n",
       "      <td>3</td>\n",
       "      <td>3</td>\n",
       "      <td>17623</td>\n",
       "      <td>2</td>\n",
       "      <td>169</td>\n",
       "      <td>82.0</td>\n",
       "      <td>150</td>\n",
       "      <td>100</td>\n",
       "      <td>1</td>\n",
       "      <td>1</td>\n",
       "      <td>0</td>\n",
       "      <td>0</td>\n",
       "      <td>1</td>\n",
       "      <td>1</td>\n",
       "    </tr>\n",
       "    <tr>\n",
       "      <th>4</th>\n",
       "      <td>4</td>\n",
       "      <td>4</td>\n",
       "      <td>17474</td>\n",
       "      <td>1</td>\n",
       "      <td>156</td>\n",
       "      <td>56.0</td>\n",
       "      <td>100</td>\n",
       "      <td>60</td>\n",
       "      <td>1</td>\n",
       "      <td>1</td>\n",
       "      <td>0</td>\n",
       "      <td>0</td>\n",
       "      <td>0</td>\n",
       "      <td>0</td>\n",
       "    </tr>\n",
       "    <tr>\n",
       "      <th>...</th>\n",
       "      <td>...</td>\n",
       "      <td>...</td>\n",
       "      <td>...</td>\n",
       "      <td>...</td>\n",
       "      <td>...</td>\n",
       "      <td>...</td>\n",
       "      <td>...</td>\n",
       "      <td>...</td>\n",
       "      <td>...</td>\n",
       "      <td>...</td>\n",
       "      <td>...</td>\n",
       "      <td>...</td>\n",
       "      <td>...</td>\n",
       "      <td>...</td>\n",
       "    </tr>\n",
       "    <tr>\n",
       "      <th>60137</th>\n",
       "      <td>69993</td>\n",
       "      <td>99991</td>\n",
       "      <td>19699</td>\n",
       "      <td>1</td>\n",
       "      <td>172</td>\n",
       "      <td>70.0</td>\n",
       "      <td>130</td>\n",
       "      <td>90</td>\n",
       "      <td>1</td>\n",
       "      <td>1</td>\n",
       "      <td>0</td>\n",
       "      <td>0</td>\n",
       "      <td>1</td>\n",
       "      <td>1</td>\n",
       "    </tr>\n",
       "    <tr>\n",
       "      <th>60138</th>\n",
       "      <td>69994</td>\n",
       "      <td>99992</td>\n",
       "      <td>21074</td>\n",
       "      <td>1</td>\n",
       "      <td>165</td>\n",
       "      <td>80.0</td>\n",
       "      <td>150</td>\n",
       "      <td>80</td>\n",
       "      <td>1</td>\n",
       "      <td>1</td>\n",
       "      <td>0</td>\n",
       "      <td>0</td>\n",
       "      <td>1</td>\n",
       "      <td>1</td>\n",
       "    </tr>\n",
       "    <tr>\n",
       "      <th>60139</th>\n",
       "      <td>69995</td>\n",
       "      <td>99993</td>\n",
       "      <td>19240</td>\n",
       "      <td>2</td>\n",
       "      <td>168</td>\n",
       "      <td>76.0</td>\n",
       "      <td>120</td>\n",
       "      <td>80</td>\n",
       "      <td>1</td>\n",
       "      <td>1</td>\n",
       "      <td>1</td>\n",
       "      <td>0</td>\n",
       "      <td>1</td>\n",
       "      <td>0</td>\n",
       "    </tr>\n",
       "    <tr>\n",
       "      <th>60140</th>\n",
       "      <td>69998</td>\n",
       "      <td>99998</td>\n",
       "      <td>22431</td>\n",
       "      <td>1</td>\n",
       "      <td>163</td>\n",
       "      <td>72.0</td>\n",
       "      <td>135</td>\n",
       "      <td>80</td>\n",
       "      <td>1</td>\n",
       "      <td>2</td>\n",
       "      <td>0</td>\n",
       "      <td>0</td>\n",
       "      <td>0</td>\n",
       "      <td>1</td>\n",
       "    </tr>\n",
       "    <tr>\n",
       "      <th>60141</th>\n",
       "      <td>69999</td>\n",
       "      <td>99999</td>\n",
       "      <td>20540</td>\n",
       "      <td>1</td>\n",
       "      <td>170</td>\n",
       "      <td>72.0</td>\n",
       "      <td>120</td>\n",
       "      <td>80</td>\n",
       "      <td>2</td>\n",
       "      <td>1</td>\n",
       "      <td>0</td>\n",
       "      <td>0</td>\n",
       "      <td>1</td>\n",
       "      <td>0</td>\n",
       "    </tr>\n",
       "  </tbody>\n",
       "</table>\n",
       "<p>60142 rows × 14 columns</p>\n",
       "</div>"
      ],
      "text/plain": [
       "       index     id    age  gender  height  weight  ap_hi  ap_lo  cholesterol  \\\n",
       "0          0      0  18393       2     168    62.0    110     80            1   \n",
       "1          1      1  20228       1     156    85.0    140     90            3   \n",
       "2          2      2  18857       1     165    64.0    130     70            3   \n",
       "3          3      3  17623       2     169    82.0    150    100            1   \n",
       "4          4      4  17474       1     156    56.0    100     60            1   \n",
       "...      ...    ...    ...     ...     ...     ...    ...    ...          ...   \n",
       "60137  69993  99991  19699       1     172    70.0    130     90            1   \n",
       "60138  69994  99992  21074       1     165    80.0    150     80            1   \n",
       "60139  69995  99993  19240       2     168    76.0    120     80            1   \n",
       "60140  69998  99998  22431       1     163    72.0    135     80            1   \n",
       "60141  69999  99999  20540       1     170    72.0    120     80            2   \n",
       "\n",
       "       gluc  smoke  alco  active  cardio  \n",
       "0         1      0     0       1       0  \n",
       "1         1      0     0       1       1  \n",
       "2         1      0     0       0       1  \n",
       "3         1      0     0       1       1  \n",
       "4         1      0     0       0       0  \n",
       "...     ...    ...   ...     ...     ...  \n",
       "60137     1      0     0       1       1  \n",
       "60138     1      0     0       1       1  \n",
       "60139     1      1     0       1       0  \n",
       "60140     2      0     0       0       1  \n",
       "60141     1      0     0       1       0  \n",
       "\n",
       "[60142 rows x 14 columns]"
      ]
     },
     "execution_count": 13,
     "metadata": {},
     "output_type": "execute_result"
    }
   ],
   "source": [
    "df"
   ]
  },
  {
   "cell_type": "code",
   "execution_count": 14,
   "id": "8a0c57c4",
   "metadata": {
    "execution": {
     "iopub.execute_input": "2022-06-09T22:31:28.145253Z",
     "iopub.status.busy": "2022-06-09T22:31:28.144433Z",
     "iopub.status.idle": "2022-06-09T22:31:28.167611Z",
     "shell.execute_reply": "2022-06-09T22:31:28.167044Z"
    },
    "papermill": {
     "duration": 0.060334,
     "end_time": "2022-06-09T22:31:28.167749",
     "exception": false,
     "start_time": "2022-06-09T22:31:28.107415",
     "status": "completed"
    },
    "tags": []
   },
   "outputs": [
    {
     "data": {
      "text/html": [
       "<div>\n",
       "<style scoped>\n",
       "    .dataframe tbody tr th:only-of-type {\n",
       "        vertical-align: middle;\n",
       "    }\n",
       "\n",
       "    .dataframe tbody tr th {\n",
       "        vertical-align: top;\n",
       "    }\n",
       "\n",
       "    .dataframe thead th {\n",
       "        text-align: right;\n",
       "    }\n",
       "</style>\n",
       "<table border=\"1\" class=\"dataframe\">\n",
       "  <thead>\n",
       "    <tr style=\"text-align: right;\">\n",
       "      <th></th>\n",
       "      <th>level_0</th>\n",
       "      <th>index</th>\n",
       "      <th>id</th>\n",
       "      <th>age</th>\n",
       "      <th>gender</th>\n",
       "      <th>height</th>\n",
       "      <th>weight</th>\n",
       "      <th>ap_hi</th>\n",
       "      <th>ap_lo</th>\n",
       "      <th>cholesterol</th>\n",
       "      <th>gluc</th>\n",
       "      <th>smoke</th>\n",
       "      <th>alco</th>\n",
       "      <th>active</th>\n",
       "      <th>cardio</th>\n",
       "    </tr>\n",
       "  </thead>\n",
       "  <tbody>\n",
       "    <tr>\n",
       "      <th>0</th>\n",
       "      <td>0</td>\n",
       "      <td>0</td>\n",
       "      <td>0</td>\n",
       "      <td>18393</td>\n",
       "      <td>2</td>\n",
       "      <td>168</td>\n",
       "      <td>62.0</td>\n",
       "      <td>110</td>\n",
       "      <td>80</td>\n",
       "      <td>1</td>\n",
       "      <td>1</td>\n",
       "      <td>0</td>\n",
       "      <td>0</td>\n",
       "      <td>1</td>\n",
       "      <td>0</td>\n",
       "    </tr>\n",
       "    <tr>\n",
       "      <th>1</th>\n",
       "      <td>1</td>\n",
       "      <td>1</td>\n",
       "      <td>1</td>\n",
       "      <td>20228</td>\n",
       "      <td>1</td>\n",
       "      <td>156</td>\n",
       "      <td>85.0</td>\n",
       "      <td>140</td>\n",
       "      <td>90</td>\n",
       "      <td>3</td>\n",
       "      <td>1</td>\n",
       "      <td>0</td>\n",
       "      <td>0</td>\n",
       "      <td>1</td>\n",
       "      <td>1</td>\n",
       "    </tr>\n",
       "    <tr>\n",
       "      <th>2</th>\n",
       "      <td>2</td>\n",
       "      <td>2</td>\n",
       "      <td>2</td>\n",
       "      <td>18857</td>\n",
       "      <td>1</td>\n",
       "      <td>165</td>\n",
       "      <td>64.0</td>\n",
       "      <td>130</td>\n",
       "      <td>70</td>\n",
       "      <td>3</td>\n",
       "      <td>1</td>\n",
       "      <td>0</td>\n",
       "      <td>0</td>\n",
       "      <td>0</td>\n",
       "      <td>1</td>\n",
       "    </tr>\n",
       "    <tr>\n",
       "      <th>3</th>\n",
       "      <td>3</td>\n",
       "      <td>3</td>\n",
       "      <td>3</td>\n",
       "      <td>17623</td>\n",
       "      <td>2</td>\n",
       "      <td>169</td>\n",
       "      <td>82.0</td>\n",
       "      <td>150</td>\n",
       "      <td>100</td>\n",
       "      <td>1</td>\n",
       "      <td>1</td>\n",
       "      <td>0</td>\n",
       "      <td>0</td>\n",
       "      <td>1</td>\n",
       "      <td>1</td>\n",
       "    </tr>\n",
       "    <tr>\n",
       "      <th>4</th>\n",
       "      <td>4</td>\n",
       "      <td>4</td>\n",
       "      <td>4</td>\n",
       "      <td>17474</td>\n",
       "      <td>1</td>\n",
       "      <td>156</td>\n",
       "      <td>56.0</td>\n",
       "      <td>100</td>\n",
       "      <td>60</td>\n",
       "      <td>1</td>\n",
       "      <td>1</td>\n",
       "      <td>0</td>\n",
       "      <td>0</td>\n",
       "      <td>0</td>\n",
       "      <td>0</td>\n",
       "    </tr>\n",
       "    <tr>\n",
       "      <th>...</th>\n",
       "      <td>...</td>\n",
       "      <td>...</td>\n",
       "      <td>...</td>\n",
       "      <td>...</td>\n",
       "      <td>...</td>\n",
       "      <td>...</td>\n",
       "      <td>...</td>\n",
       "      <td>...</td>\n",
       "      <td>...</td>\n",
       "      <td>...</td>\n",
       "      <td>...</td>\n",
       "      <td>...</td>\n",
       "      <td>...</td>\n",
       "      <td>...</td>\n",
       "      <td>...</td>\n",
       "    </tr>\n",
       "    <tr>\n",
       "      <th>60137</th>\n",
       "      <td>60137</td>\n",
       "      <td>69993</td>\n",
       "      <td>99991</td>\n",
       "      <td>19699</td>\n",
       "      <td>1</td>\n",
       "      <td>172</td>\n",
       "      <td>70.0</td>\n",
       "      <td>130</td>\n",
       "      <td>90</td>\n",
       "      <td>1</td>\n",
       "      <td>1</td>\n",
       "      <td>0</td>\n",
       "      <td>0</td>\n",
       "      <td>1</td>\n",
       "      <td>1</td>\n",
       "    </tr>\n",
       "    <tr>\n",
       "      <th>60138</th>\n",
       "      <td>60138</td>\n",
       "      <td>69994</td>\n",
       "      <td>99992</td>\n",
       "      <td>21074</td>\n",
       "      <td>1</td>\n",
       "      <td>165</td>\n",
       "      <td>80.0</td>\n",
       "      <td>150</td>\n",
       "      <td>80</td>\n",
       "      <td>1</td>\n",
       "      <td>1</td>\n",
       "      <td>0</td>\n",
       "      <td>0</td>\n",
       "      <td>1</td>\n",
       "      <td>1</td>\n",
       "    </tr>\n",
       "    <tr>\n",
       "      <th>60139</th>\n",
       "      <td>60139</td>\n",
       "      <td>69995</td>\n",
       "      <td>99993</td>\n",
       "      <td>19240</td>\n",
       "      <td>2</td>\n",
       "      <td>168</td>\n",
       "      <td>76.0</td>\n",
       "      <td>120</td>\n",
       "      <td>80</td>\n",
       "      <td>1</td>\n",
       "      <td>1</td>\n",
       "      <td>1</td>\n",
       "      <td>0</td>\n",
       "      <td>1</td>\n",
       "      <td>0</td>\n",
       "    </tr>\n",
       "    <tr>\n",
       "      <th>60140</th>\n",
       "      <td>60140</td>\n",
       "      <td>69998</td>\n",
       "      <td>99998</td>\n",
       "      <td>22431</td>\n",
       "      <td>1</td>\n",
       "      <td>163</td>\n",
       "      <td>72.0</td>\n",
       "      <td>135</td>\n",
       "      <td>80</td>\n",
       "      <td>1</td>\n",
       "      <td>2</td>\n",
       "      <td>0</td>\n",
       "      <td>0</td>\n",
       "      <td>0</td>\n",
       "      <td>1</td>\n",
       "    </tr>\n",
       "    <tr>\n",
       "      <th>60141</th>\n",
       "      <td>60141</td>\n",
       "      <td>69999</td>\n",
       "      <td>99999</td>\n",
       "      <td>20540</td>\n",
       "      <td>1</td>\n",
       "      <td>170</td>\n",
       "      <td>72.0</td>\n",
       "      <td>120</td>\n",
       "      <td>80</td>\n",
       "      <td>2</td>\n",
       "      <td>1</td>\n",
       "      <td>0</td>\n",
       "      <td>0</td>\n",
       "      <td>1</td>\n",
       "      <td>0</td>\n",
       "    </tr>\n",
       "  </tbody>\n",
       "</table>\n",
       "<p>60142 rows × 15 columns</p>\n",
       "</div>"
      ],
      "text/plain": [
       "       level_0  index     id    age  gender  height  weight  ap_hi  ap_lo  \\\n",
       "0            0      0      0  18393       2     168    62.0    110     80   \n",
       "1            1      1      1  20228       1     156    85.0    140     90   \n",
       "2            2      2      2  18857       1     165    64.0    130     70   \n",
       "3            3      3      3  17623       2     169    82.0    150    100   \n",
       "4            4      4      4  17474       1     156    56.0    100     60   \n",
       "...        ...    ...    ...    ...     ...     ...     ...    ...    ...   \n",
       "60137    60137  69993  99991  19699       1     172    70.0    130     90   \n",
       "60138    60138  69994  99992  21074       1     165    80.0    150     80   \n",
       "60139    60139  69995  99993  19240       2     168    76.0    120     80   \n",
       "60140    60140  69998  99998  22431       1     163    72.0    135     80   \n",
       "60141    60141  69999  99999  20540       1     170    72.0    120     80   \n",
       "\n",
       "       cholesterol  gluc  smoke  alco  active  cardio  \n",
       "0                1     1      0     0       1       0  \n",
       "1                3     1      0     0       1       1  \n",
       "2                3     1      0     0       0       1  \n",
       "3                1     1      0     0       1       1  \n",
       "4                1     1      0     0       0       0  \n",
       "...            ...   ...    ...   ...     ...     ...  \n",
       "60137            1     1      0     0       1       1  \n",
       "60138            1     1      0     0       1       1  \n",
       "60139            1     1      1     0       1       0  \n",
       "60140            1     2      0     0       0       1  \n",
       "60141            2     1      0     0       1       0  \n",
       "\n",
       "[60142 rows x 15 columns]"
      ]
     },
     "execution_count": 14,
     "metadata": {},
     "output_type": "execute_result"
    }
   ],
   "source": [
    "df = df.drop(index = all_outlier_index).reset_index()\n",
    "df"
   ]
  },
  {
   "cell_type": "code",
   "execution_count": 15,
   "id": "d705b190",
   "metadata": {
    "execution": {
     "iopub.execute_input": "2022-06-09T22:31:28.241956Z",
     "iopub.status.busy": "2022-06-09T22:31:28.241274Z",
     "iopub.status.idle": "2022-06-09T22:31:28.253840Z",
     "shell.execute_reply": "2022-06-09T22:31:28.253093Z"
    },
    "papermill": {
     "duration": 0.051436,
     "end_time": "2022-06-09T22:31:28.254009",
     "exception": false,
     "start_time": "2022-06-09T22:31:28.202573",
     "status": "completed"
    },
    "tags": []
   },
   "outputs": [],
   "source": [
    "df.drop(columns=['index','id'], inplace=True)"
   ]
  },
  {
   "cell_type": "code",
   "execution_count": 16,
   "id": "38e4cacf",
   "metadata": {
    "execution": {
     "iopub.execute_input": "2022-06-09T22:31:28.330520Z",
     "iopub.status.busy": "2022-06-09T22:31:28.328675Z",
     "iopub.status.idle": "2022-06-09T22:31:28.342575Z",
     "shell.execute_reply": "2022-06-09T22:31:28.343098Z"
    },
    "papermill": {
     "duration": 0.052941,
     "end_time": "2022-06-09T22:31:28.343268",
     "exception": false,
     "start_time": "2022-06-09T22:31:28.290327",
     "status": "completed"
    },
    "tags": []
   },
   "outputs": [
    {
     "data": {
      "text/html": [
       "<div>\n",
       "<style scoped>\n",
       "    .dataframe tbody tr th:only-of-type {\n",
       "        vertical-align: middle;\n",
       "    }\n",
       "\n",
       "    .dataframe tbody tr th {\n",
       "        vertical-align: top;\n",
       "    }\n",
       "\n",
       "    .dataframe thead th {\n",
       "        text-align: right;\n",
       "    }\n",
       "</style>\n",
       "<table border=\"1\" class=\"dataframe\">\n",
       "  <thead>\n",
       "    <tr style=\"text-align: right;\">\n",
       "      <th></th>\n",
       "      <th>level_0</th>\n",
       "      <th>age</th>\n",
       "      <th>gender</th>\n",
       "      <th>height</th>\n",
       "      <th>weight</th>\n",
       "      <th>ap_hi</th>\n",
       "      <th>ap_lo</th>\n",
       "      <th>cholesterol</th>\n",
       "      <th>gluc</th>\n",
       "      <th>smoke</th>\n",
       "      <th>alco</th>\n",
       "      <th>active</th>\n",
       "      <th>cardio</th>\n",
       "    </tr>\n",
       "  </thead>\n",
       "  <tbody>\n",
       "    <tr>\n",
       "      <th>0</th>\n",
       "      <td>0</td>\n",
       "      <td>18393</td>\n",
       "      <td>2</td>\n",
       "      <td>168</td>\n",
       "      <td>62.0</td>\n",
       "      <td>110</td>\n",
       "      <td>80</td>\n",
       "      <td>1</td>\n",
       "      <td>1</td>\n",
       "      <td>0</td>\n",
       "      <td>0</td>\n",
       "      <td>1</td>\n",
       "      <td>0</td>\n",
       "    </tr>\n",
       "    <tr>\n",
       "      <th>1</th>\n",
       "      <td>1</td>\n",
       "      <td>20228</td>\n",
       "      <td>1</td>\n",
       "      <td>156</td>\n",
       "      <td>85.0</td>\n",
       "      <td>140</td>\n",
       "      <td>90</td>\n",
       "      <td>3</td>\n",
       "      <td>1</td>\n",
       "      <td>0</td>\n",
       "      <td>0</td>\n",
       "      <td>1</td>\n",
       "      <td>1</td>\n",
       "    </tr>\n",
       "    <tr>\n",
       "      <th>2</th>\n",
       "      <td>2</td>\n",
       "      <td>18857</td>\n",
       "      <td>1</td>\n",
       "      <td>165</td>\n",
       "      <td>64.0</td>\n",
       "      <td>130</td>\n",
       "      <td>70</td>\n",
       "      <td>3</td>\n",
       "      <td>1</td>\n",
       "      <td>0</td>\n",
       "      <td>0</td>\n",
       "      <td>0</td>\n",
       "      <td>1</td>\n",
       "    </tr>\n",
       "    <tr>\n",
       "      <th>3</th>\n",
       "      <td>3</td>\n",
       "      <td>17623</td>\n",
       "      <td>2</td>\n",
       "      <td>169</td>\n",
       "      <td>82.0</td>\n",
       "      <td>150</td>\n",
       "      <td>100</td>\n",
       "      <td>1</td>\n",
       "      <td>1</td>\n",
       "      <td>0</td>\n",
       "      <td>0</td>\n",
       "      <td>1</td>\n",
       "      <td>1</td>\n",
       "    </tr>\n",
       "    <tr>\n",
       "      <th>4</th>\n",
       "      <td>4</td>\n",
       "      <td>17474</td>\n",
       "      <td>1</td>\n",
       "      <td>156</td>\n",
       "      <td>56.0</td>\n",
       "      <td>100</td>\n",
       "      <td>60</td>\n",
       "      <td>1</td>\n",
       "      <td>1</td>\n",
       "      <td>0</td>\n",
       "      <td>0</td>\n",
       "      <td>0</td>\n",
       "      <td>0</td>\n",
       "    </tr>\n",
       "    <tr>\n",
       "      <th>...</th>\n",
       "      <td>...</td>\n",
       "      <td>...</td>\n",
       "      <td>...</td>\n",
       "      <td>...</td>\n",
       "      <td>...</td>\n",
       "      <td>...</td>\n",
       "      <td>...</td>\n",
       "      <td>...</td>\n",
       "      <td>...</td>\n",
       "      <td>...</td>\n",
       "      <td>...</td>\n",
       "      <td>...</td>\n",
       "      <td>...</td>\n",
       "    </tr>\n",
       "    <tr>\n",
       "      <th>60137</th>\n",
       "      <td>60137</td>\n",
       "      <td>19699</td>\n",
       "      <td>1</td>\n",
       "      <td>172</td>\n",
       "      <td>70.0</td>\n",
       "      <td>130</td>\n",
       "      <td>90</td>\n",
       "      <td>1</td>\n",
       "      <td>1</td>\n",
       "      <td>0</td>\n",
       "      <td>0</td>\n",
       "      <td>1</td>\n",
       "      <td>1</td>\n",
       "    </tr>\n",
       "    <tr>\n",
       "      <th>60138</th>\n",
       "      <td>60138</td>\n",
       "      <td>21074</td>\n",
       "      <td>1</td>\n",
       "      <td>165</td>\n",
       "      <td>80.0</td>\n",
       "      <td>150</td>\n",
       "      <td>80</td>\n",
       "      <td>1</td>\n",
       "      <td>1</td>\n",
       "      <td>0</td>\n",
       "      <td>0</td>\n",
       "      <td>1</td>\n",
       "      <td>1</td>\n",
       "    </tr>\n",
       "    <tr>\n",
       "      <th>60139</th>\n",
       "      <td>60139</td>\n",
       "      <td>19240</td>\n",
       "      <td>2</td>\n",
       "      <td>168</td>\n",
       "      <td>76.0</td>\n",
       "      <td>120</td>\n",
       "      <td>80</td>\n",
       "      <td>1</td>\n",
       "      <td>1</td>\n",
       "      <td>1</td>\n",
       "      <td>0</td>\n",
       "      <td>1</td>\n",
       "      <td>0</td>\n",
       "    </tr>\n",
       "    <tr>\n",
       "      <th>60140</th>\n",
       "      <td>60140</td>\n",
       "      <td>22431</td>\n",
       "      <td>1</td>\n",
       "      <td>163</td>\n",
       "      <td>72.0</td>\n",
       "      <td>135</td>\n",
       "      <td>80</td>\n",
       "      <td>1</td>\n",
       "      <td>2</td>\n",
       "      <td>0</td>\n",
       "      <td>0</td>\n",
       "      <td>0</td>\n",
       "      <td>1</td>\n",
       "    </tr>\n",
       "    <tr>\n",
       "      <th>60141</th>\n",
       "      <td>60141</td>\n",
       "      <td>20540</td>\n",
       "      <td>1</td>\n",
       "      <td>170</td>\n",
       "      <td>72.0</td>\n",
       "      <td>120</td>\n",
       "      <td>80</td>\n",
       "      <td>2</td>\n",
       "      <td>1</td>\n",
       "      <td>0</td>\n",
       "      <td>0</td>\n",
       "      <td>1</td>\n",
       "      <td>0</td>\n",
       "    </tr>\n",
       "  </tbody>\n",
       "</table>\n",
       "<p>60142 rows × 13 columns</p>\n",
       "</div>"
      ],
      "text/plain": [
       "       level_0    age  gender  height  weight  ap_hi  ap_lo  cholesterol  \\\n",
       "0            0  18393       2     168    62.0    110     80            1   \n",
       "1            1  20228       1     156    85.0    140     90            3   \n",
       "2            2  18857       1     165    64.0    130     70            3   \n",
       "3            3  17623       2     169    82.0    150    100            1   \n",
       "4            4  17474       1     156    56.0    100     60            1   \n",
       "...        ...    ...     ...     ...     ...    ...    ...          ...   \n",
       "60137    60137  19699       1     172    70.0    130     90            1   \n",
       "60138    60138  21074       1     165    80.0    150     80            1   \n",
       "60139    60139  19240       2     168    76.0    120     80            1   \n",
       "60140    60140  22431       1     163    72.0    135     80            1   \n",
       "60141    60141  20540       1     170    72.0    120     80            2   \n",
       "\n",
       "       gluc  smoke  alco  active  cardio  \n",
       "0         1      0     0       1       0  \n",
       "1         1      0     0       1       1  \n",
       "2         1      0     0       0       1  \n",
       "3         1      0     0       1       1  \n",
       "4         1      0     0       0       0  \n",
       "...     ...    ...   ...     ...     ...  \n",
       "60137     1      0     0       1       1  \n",
       "60138     1      0     0       1       1  \n",
       "60139     1      1     0       1       0  \n",
       "60140     2      0     0       0       1  \n",
       "60141     1      0     0       1       0  \n",
       "\n",
       "[60142 rows x 13 columns]"
      ]
     },
     "execution_count": 16,
     "metadata": {},
     "output_type": "execute_result"
    }
   ],
   "source": [
    "df"
   ]
  },
  {
   "cell_type": "code",
   "execution_count": 17,
   "id": "e7ca1bd8",
   "metadata": {},
   "outputs": [
    {
     "data": {
      "image/png": "[encoded data removed]",
      "text/plain": [
       "<Figure size 864x576 with 5 Axes>"
      ]
     },
     "metadata": {
      "needs_background": "light"
     },
     "output_type": "display_data"
    }
   ],
   "source": [
    "# understand continous variable distribution\n",
    "\n",
    "\n",
    "figure3 = plt.figure(figsize = (12,8))\n",
    "\n",
    "\n",
    "plt.subplot(2,3,1)\n",
    "sns.distplot(df['age'], bins=15, kde=False, color=\"red\")\n",
    "\n",
    "plt.subplot(2,3,2)\n",
    "sns.distplot(df['height'], bins=25, kde=False, color=\"red\")\n",
    "\n",
    "plt.subplot(2,3,3)\n",
    "sns.distplot(df['weight'], bins=25, kde=False, color=\"red\")\n",
    "\n",
    "plt.subplot(2,3,4)\n",
    "sns.distplot(df['ap_lo'], bins=15, kde=False, color=\"red\")\n",
    "\n",
    "plt.subplot(2,3,5)\n",
    "sns.distplot(df['ap_hi'], bins=15, kde=False, color=\"red\")\n",
    "\n",
    "plt.tight_layout()\n",
    "    \n",
    "plt.show()"
   ]
  },
  {
   "cell_type": "code",
   "execution_count": 18,
   "id": "fffa71bc",
   "metadata": {},
   "outputs": [
    {
     "data": {
      "image/png": "[encoded data removed]",
      "text/plain": [
       "<Figure size 864x720 with 2 Axes>"
      ]
     },
     "metadata": {
      "needs_background": "light"
     },
     "output_type": "display_data"
    }
   ],
   "source": [
    "#Looking into the correlation heatmap, and it seems like our target has higher correlation with age, weight, ap_hi, ap_lo, cholestrol.\n",
    "sns.heatmap(df.drop(columns=['age']).corr(), annot=True, cmap='YlGnBu')\n",
    "fig = plt.gcf()\n",
    "fig.set_size_inches(12,10)"
   ]
  },
  {
   "cell_type": "markdown",
   "id": "49e4d715",
   "metadata": {
    "papermill": {
     "duration": 0.033433,
     "end_time": "2022-06-09T22:31:28.410571",
     "exception": false,
     "start_time": "2022-06-09T22:31:28.377138",
     "status": "completed"
    },
    "tags": []
   },
   "source": [
    "# Transforming Data"
   ]
  },
  {
   "cell_type": "code",
   "execution_count": 19,
   "id": "683f8f72",
   "metadata": {
    "execution": {
     "iopub.execute_input": "2022-06-09T22:31:28.483188Z",
     "iopub.status.busy": "2022-06-09T22:31:28.482499Z",
     "iopub.status.idle": "2022-06-09T22:31:28.492765Z",
     "shell.execute_reply": "2022-06-09T22:31:28.493266Z"
    },
    "papermill": {
     "duration": 0.047755,
     "end_time": "2022-06-09T22:31:28.493437",
     "exception": false,
     "start_time": "2022-06-09T22:31:28.445682",
     "status": "completed"
    },
    "tags": []
   },
   "outputs": [],
   "source": [
    "# transforming the column AGE(measured in days) for Years\n",
    "df['years'] = (df['age'] / 365).round().astype('int')\n",
    "df.drop(['age'], axis='columns', inplace=True)"
   ]
  },
  {
   "cell_type": "code",
   "execution_count": 20,
   "id": "862eaaca",
   "metadata": {
    "execution": {
     "iopub.execute_input": "2022-06-09T22:31:28.565098Z",
     "iopub.status.busy": "2022-06-09T22:31:28.564493Z",
     "iopub.status.idle": "2022-06-09T22:31:28.574071Z",
     "shell.execute_reply": "2022-06-09T22:31:28.574530Z"
    },
    "papermill": {
     "duration": 0.047273,
     "end_time": "2022-06-09T22:31:28.574692",
     "exception": false,
     "start_time": "2022-06-09T22:31:28.527419",
     "status": "completed"
    },
    "tags": []
   },
   "outputs": [
    {
     "data": {
      "text/plain": [
       "count    60142.000000\n",
       "mean        53.338798\n",
       "std          6.746864\n",
       "min         30.000000\n",
       "25%         48.000000\n",
       "50%         54.000000\n",
       "75%         58.000000\n",
       "max         65.000000\n",
       "Name: years, dtype: float64"
      ]
     },
     "execution_count": 20,
     "metadata": {},
     "output_type": "execute_result"
    }
   ],
   "source": [
    "df['years'].describe()"
   ]
  },
  {
   "cell_type": "code",
   "execution_count": 21,
   "id": "528d9640",
   "metadata": {
    "execution": {
     "iopub.execute_input": "2022-06-09T22:31:28.645710Z",
     "iopub.status.busy": "2022-06-09T22:31:28.645122Z",
     "iopub.status.idle": "2022-06-09T22:31:28.653705Z",
     "shell.execute_reply": "2022-06-09T22:31:28.653217Z"
    },
    "papermill": {
     "duration": 0.045135,
     "end_time": "2022-06-09T22:31:28.653844",
     "exception": false,
     "start_time": "2022-06-09T22:31:28.608709",
     "status": "completed"
    },
    "tags": []
   },
   "outputs": [],
   "source": [
    "# age_bin in quinquenium 5 years spam\n",
    "df['age_bin'] = pd.cut(df['years'], [0,30,40,50,60,70], \n",
    "                              labels=['0', '1','2','3','4'])"
   ]
  },
  {
   "cell_type": "markdown",
   "id": "e691337f",
   "metadata": {
    "papermill": {
     "duration": 0.035033,
     "end_time": "2022-06-09T22:31:28.725061",
     "exception": false,
     "start_time": "2022-06-09T22:31:28.690028",
     "status": "completed"
    },
    "tags": []
   },
   "source": [
    "## 1.3.2 Transforming the column bmi in Body Mass Index Classes (1 to 6)"
   ]
  },
  {
   "cell_type": "code",
   "execution_count": 22,
   "id": "aaba11f5",
   "metadata": {
    "execution": {
     "iopub.execute_input": "2022-06-09T22:31:28.805939Z",
     "iopub.status.busy": "2022-06-09T22:31:28.804933Z",
     "iopub.status.idle": "2022-06-09T22:31:28.809000Z",
     "shell.execute_reply": "2022-06-09T22:31:28.809414Z"
    },
    "papermill": {
     "duration": 0.047097,
     "end_time": "2022-06-09T22:31:28.809591",
     "exception": false,
     "start_time": "2022-06-09T22:31:28.762494",
     "status": "completed"
    },
    "tags": []
   },
   "outputs": [],
   "source": [
    "# Adding Body Mass Index\n",
    "df['bmi'] = df['weight']/((df['height']/100)**2)"
   ]
  },
  {
   "cell_type": "code",
   "execution_count": 23,
   "id": "a516746e",
   "metadata": {
    "execution": {
     "iopub.execute_input": "2022-06-09T22:31:28.884359Z",
     "iopub.status.busy": "2022-06-09T22:31:28.882338Z",
     "iopub.status.idle": "2022-06-09T22:31:28.893656Z",
     "shell.execute_reply": "2022-06-09T22:31:28.893175Z"
    },
    "papermill": {
     "duration": 0.048635,
     "end_time": "2022-06-09T22:31:28.893787",
     "exception": false,
     "start_time": "2022-06-09T22:31:28.845152",
     "status": "completed"
    },
    "tags": []
   },
   "outputs": [
    {
     "data": {
      "text/plain": [
       "count    60142.000000\n",
       "mean        27.170628\n",
       "std          4.404588\n",
       "min         16.049383\n",
       "25%         23.875115\n",
       "50%         26.259585\n",
       "75%         29.752066\n",
       "max         46.666667\n",
       "Name: bmi, dtype: float64"
      ]
     },
     "execution_count": 23,
     "metadata": {},
     "output_type": "execute_result"
    }
   ],
   "source": [
    "df['bmi'].describe()"
   ]
  },
  {
   "cell_type": "code",
   "execution_count": 24,
   "id": "8fcd91a3",
   "metadata": {
    "execution": {
     "iopub.execute_input": "2022-06-09T22:31:28.970707Z",
     "iopub.status.busy": "2022-06-09T22:31:28.970064Z",
     "iopub.status.idle": "2022-06-09T22:31:28.997644Z",
     "shell.execute_reply": "2022-06-09T22:31:28.998177Z"
    },
    "papermill": {
     "duration": 0.069316,
     "end_time": "2022-06-09T22:31:28.998352",
     "exception": false,
     "start_time": "2022-06-09T22:31:28.929036",
     "status": "completed"
    },
    "tags": []
   },
   "outputs": [],
   "source": [
    "# transforming the column bmi in Body Mass Index Classes (1 to 6)\n",
    "rating = []\n",
    "for row in df['bmi']:\n",
    "    if row < 18.5 :    rating.append(1) #UnderWeight\n",
    "    elif row > 18.5 and row  < 24.9:   rating.append(2)#NormalWeight\n",
    "    elif row > 24.9 and row < 29.9:  rating.append(3)#OverWeight\n",
    "    elif row > 29.9 and row < 34.9:  rating.append(4)#ClassObesity_1\n",
    "    elif row > 34.9 and row < 39.9:  rating.append(5)#ClassObesity_2\n",
    "    elif row > 39.9 and row < 49.9:  rating.append(6)#ClassObesity_3\n",
    "    elif row > 49.9:  rating.append('Error')\n",
    "        \n",
    "    else:           rating.append('Not_Rated')"
   ]
  },
  {
   "cell_type": "code",
   "execution_count": 25,
   "id": "bfdb15ea",
   "metadata": {
    "execution": {
     "iopub.execute_input": "2022-06-09T22:31:29.072231Z",
     "iopub.status.busy": "2022-06-09T22:31:29.071595Z",
     "iopub.status.idle": "2022-06-09T22:31:29.088162Z",
     "shell.execute_reply": "2022-06-09T22:31:29.088633Z"
    },
    "papermill": {
     "duration": 0.054531,
     "end_time": "2022-06-09T22:31:29.088805",
     "exception": false,
     "start_time": "2022-06-09T22:31:29.034274",
     "status": "completed"
    },
    "tags": []
   },
   "outputs": [],
   "source": [
    "# inserting Column\n",
    "df['BMI_Class'] = rating"
   ]
  },
  {
   "cell_type": "code",
   "execution_count": 26,
   "id": "3323f108",
   "metadata": {
    "execution": {
     "iopub.execute_input": "2022-06-09T22:31:29.165660Z",
     "iopub.status.busy": "2022-06-09T22:31:29.165081Z",
     "iopub.status.idle": "2022-06-09T22:31:29.171940Z",
     "shell.execute_reply": "2022-06-09T22:31:29.172441Z"
    },
    "papermill": {
     "duration": 0.046219,
     "end_time": "2022-06-09T22:31:29.172608",
     "exception": false,
     "start_time": "2022-06-09T22:31:29.126389",
     "status": "completed"
    },
    "tags": []
   },
   "outputs": [
    {
     "data": {
      "text/plain": [
       "3    0.391773\n",
       "2    0.361943\n",
       "4    0.179209\n",
       "5    0.055801\n",
       "6    0.009162\n",
       "1    0.002112\n",
       "Name: BMI_Class, dtype: float64"
      ]
     },
     "execution_count": 26,
     "metadata": {},
     "output_type": "execute_result"
    }
   ],
   "source": [
    "# general distribuition\n",
    "df[\"BMI_Class\"].value_counts(normalize=True)"
   ]
  },
  {
   "cell_type": "markdown",
   "id": "f9f7288d",
   "metadata": {
    "papermill": {
     "duration": 0.035275,
     "end_time": "2022-06-09T22:31:29.242824",
     "exception": false,
     "start_time": "2022-06-09T22:31:29.207549",
     "status": "completed"
    },
    "tags": []
   },
   "source": [
    "## Creating the column MAP"
   ]
  },
  {
   "cell_type": "code",
   "execution_count": 27,
   "id": "edc64d52",
   "metadata": {
    "execution": {
     "iopub.execute_input": "2022-06-09T22:31:29.316682Z",
     "iopub.status.busy": "2022-06-09T22:31:29.316140Z",
     "iopub.status.idle": "2022-06-09T22:31:29.321261Z",
     "shell.execute_reply": "2022-06-09T22:31:29.321747Z"
    },
    "papermill": {
     "duration": 0.043951,
     "end_time": "2022-06-09T22:31:29.321922",
     "exception": false,
     "start_time": "2022-06-09T22:31:29.277971",
     "status": "completed"
    },
    "tags": []
   },
   "outputs": [],
   "source": [
    "# creating a Column for MAP\n",
    "df['MAP'] = ((2* df['ap_lo']) + df['ap_hi']) / 3"
   ]
  },
  {
   "cell_type": "code",
   "execution_count": 28,
   "id": "22c352d5",
   "metadata": {
    "execution": {
     "iopub.execute_input": "2022-06-09T22:31:29.394936Z",
     "iopub.status.busy": "2022-06-09T22:31:29.394328Z",
     "iopub.status.idle": "2022-06-09T22:31:29.428137Z",
     "shell.execute_reply": "2022-06-09T22:31:29.428671Z"
    },
    "papermill": {
     "duration": 0.07188,
     "end_time": "2022-06-09T22:31:29.428859",
     "exception": false,
     "start_time": "2022-06-09T22:31:29.356979",
     "status": "completed"
    },
    "tags": []
   },
   "outputs": [],
   "source": [
    "#Creating Classes for MAP\n",
    "map_values = []\n",
    "for row in df['MAP']:\n",
    "    if row < 69.9:    map_values.append(1) #Low\n",
    "    elif row > 70 and row  < 79.9:   map_values.append(2)#Normal\n",
    "    elif row > 79.9 and row < 89.9:  map_values.append(3)#Normal\n",
    "    elif row > 89.9 and row < 99.9:  map_values.append(4)#Normal\n",
    "    elif row > 99.9 and row < 109.9:  map_values.append(5)#High\n",
    "    elif row > 109.9 and row < 119.9:  map_values.append(6)#Normal\n",
    "    elif row > 119.9:  map_values.append(7)\n",
    "        \n",
    "    else:           map_values.append('Not_Rated')"
   ]
  },
  {
   "cell_type": "code",
   "execution_count": 29,
   "id": "cecb8784",
   "metadata": {
    "execution": {
     "iopub.execute_input": "2022-06-09T22:31:29.502925Z",
     "iopub.status.busy": "2022-06-09T22:31:29.502374Z",
     "iopub.status.idle": "2022-06-09T22:31:29.518536Z",
     "shell.execute_reply": "2022-06-09T22:31:29.519114Z"
    },
    "papermill": {
     "duration": 0.0543,
     "end_time": "2022-06-09T22:31:29.519284",
     "exception": false,
     "start_time": "2022-06-09T22:31:29.464984",
     "status": "completed"
    },
    "tags": []
   },
   "outputs": [],
   "source": [
    "#inserting MAP_Class Column\n",
    "df['MAP_Class'] = map_values"
   ]
  },
  {
   "cell_type": "code",
   "execution_count": 30,
   "id": "9c03b18e",
   "metadata": {
    "execution": {
     "iopub.execute_input": "2022-06-09T22:31:29.593773Z",
     "iopub.status.busy": "2022-06-09T22:31:29.593216Z",
     "iopub.status.idle": "2022-06-09T22:31:29.614629Z",
     "shell.execute_reply": "2022-06-09T22:31:29.614046Z"
    },
    "papermill": {
     "duration": 0.059908,
     "end_time": "2022-06-09T22:31:29.614767",
     "exception": false,
     "start_time": "2022-06-09T22:31:29.554859",
     "status": "completed"
    },
    "tags": []
   },
   "outputs": [
    {
     "data": {
      "text/html": [
       "<div>\n",
       "<style scoped>\n",
       "    .dataframe tbody tr th:only-of-type {\n",
       "        vertical-align: middle;\n",
       "    }\n",
       "\n",
       "    .dataframe tbody tr th {\n",
       "        vertical-align: top;\n",
       "    }\n",
       "\n",
       "    .dataframe thead th {\n",
       "        text-align: right;\n",
       "    }\n",
       "</style>\n",
       "<table border=\"1\" class=\"dataframe\">\n",
       "  <thead>\n",
       "    <tr style=\"text-align: right;\">\n",
       "      <th></th>\n",
       "      <th>gender</th>\n",
       "      <th>height</th>\n",
       "      <th>weight</th>\n",
       "      <th>bmi</th>\n",
       "      <th>ap_hi</th>\n",
       "      <th>ap_lo</th>\n",
       "      <th>MAP</th>\n",
       "      <th>years</th>\n",
       "      <th>age_bin</th>\n",
       "      <th>BMI_Class</th>\n",
       "      <th>MAP_Class</th>\n",
       "      <th>cholesterol</th>\n",
       "      <th>gluc</th>\n",
       "      <th>smoke</th>\n",
       "      <th>active</th>\n",
       "      <th>cardio</th>\n",
       "    </tr>\n",
       "  </thead>\n",
       "  <tbody>\n",
       "    <tr>\n",
       "      <th>0</th>\n",
       "      <td>2</td>\n",
       "      <td>168</td>\n",
       "      <td>62.0</td>\n",
       "      <td>21.967120</td>\n",
       "      <td>110</td>\n",
       "      <td>80</td>\n",
       "      <td>90.000000</td>\n",
       "      <td>50</td>\n",
       "      <td>2</td>\n",
       "      <td>2</td>\n",
       "      <td>4</td>\n",
       "      <td>1</td>\n",
       "      <td>1</td>\n",
       "      <td>0</td>\n",
       "      <td>1</td>\n",
       "      <td>0</td>\n",
       "    </tr>\n",
       "    <tr>\n",
       "      <th>1</th>\n",
       "      <td>1</td>\n",
       "      <td>156</td>\n",
       "      <td>85.0</td>\n",
       "      <td>34.927679</td>\n",
       "      <td>140</td>\n",
       "      <td>90</td>\n",
       "      <td>106.666667</td>\n",
       "      <td>55</td>\n",
       "      <td>3</td>\n",
       "      <td>5</td>\n",
       "      <td>5</td>\n",
       "      <td>3</td>\n",
       "      <td>1</td>\n",
       "      <td>0</td>\n",
       "      <td>1</td>\n",
       "      <td>1</td>\n",
       "    </tr>\n",
       "    <tr>\n",
       "      <th>2</th>\n",
       "      <td>1</td>\n",
       "      <td>165</td>\n",
       "      <td>64.0</td>\n",
       "      <td>23.507805</td>\n",
       "      <td>130</td>\n",
       "      <td>70</td>\n",
       "      <td>90.000000</td>\n",
       "      <td>52</td>\n",
       "      <td>3</td>\n",
       "      <td>2</td>\n",
       "      <td>4</td>\n",
       "      <td>3</td>\n",
       "      <td>1</td>\n",
       "      <td>0</td>\n",
       "      <td>0</td>\n",
       "      <td>1</td>\n",
       "    </tr>\n",
       "    <tr>\n",
       "      <th>3</th>\n",
       "      <td>2</td>\n",
       "      <td>169</td>\n",
       "      <td>82.0</td>\n",
       "      <td>28.710479</td>\n",
       "      <td>150</td>\n",
       "      <td>100</td>\n",
       "      <td>116.666667</td>\n",
       "      <td>48</td>\n",
       "      <td>2</td>\n",
       "      <td>3</td>\n",
       "      <td>6</td>\n",
       "      <td>1</td>\n",
       "      <td>1</td>\n",
       "      <td>0</td>\n",
       "      <td>1</td>\n",
       "      <td>1</td>\n",
       "    </tr>\n",
       "    <tr>\n",
       "      <th>4</th>\n",
       "      <td>1</td>\n",
       "      <td>156</td>\n",
       "      <td>56.0</td>\n",
       "      <td>23.011177</td>\n",
       "      <td>100</td>\n",
       "      <td>60</td>\n",
       "      <td>73.333333</td>\n",
       "      <td>48</td>\n",
       "      <td>2</td>\n",
       "      <td>2</td>\n",
       "      <td>2</td>\n",
       "      <td>1</td>\n",
       "      <td>1</td>\n",
       "      <td>0</td>\n",
       "      <td>0</td>\n",
       "      <td>0</td>\n",
       "    </tr>\n",
       "  </tbody>\n",
       "</table>\n",
       "</div>"
      ],
      "text/plain": [
       "   gender  height  weight        bmi  ap_hi  ap_lo         MAP  years age_bin  \\\n",
       "0       2     168    62.0  21.967120    110     80   90.000000     50       2   \n",
       "1       1     156    85.0  34.927679    140     90  106.666667     55       3   \n",
       "2       1     165    64.0  23.507805    130     70   90.000000     52       3   \n",
       "3       2     169    82.0  28.710479    150    100  116.666667     48       2   \n",
       "4       1     156    56.0  23.011177    100     60   73.333333     48       2   \n",
       "\n",
       "   BMI_Class  MAP_Class  cholesterol  gluc  smoke  active  cardio  \n",
       "0          2          4            1     1      0       1       0  \n",
       "1          5          5            3     1      0       1       1  \n",
       "2          2          4            3     1      0       0       1  \n",
       "3          3          6            1     1      0       1       1  \n",
       "4          2          2            1     1      0       0       0  "
      ]
     },
     "execution_count": 30,
     "metadata": {},
     "output_type": "execute_result"
    }
   ],
   "source": [
    "# Reordering Columns\n",
    "df= df[[\"gender\",\"height\",\"weight\",\"bmi\",\"ap_hi\",\"ap_lo\",\"MAP\",\"years\",\"age_bin\",\"BMI_Class\",\"MAP_Class\",\"cholesterol\",\"gluc\",\"smoke\",\"active\",\"cardio\"]]\n",
    "df.head()"
   ]
  },
  {
   "cell_type": "markdown",
   "id": "34dcbd12",
   "metadata": {
    "papermill": {
     "duration": 0.035636,
     "end_time": "2022-06-09T22:31:29.686587",
     "exception": false,
     "start_time": "2022-06-09T22:31:29.650951",
     "status": "completed"
    },
    "tags": []
   },
   "source": [
    "# Data Preparation"
   ]
  },
  {
   "cell_type": "code",
   "execution_count": 31,
   "id": "477ea6e8",
   "metadata": {
    "execution": {
     "iopub.execute_input": "2022-06-09T22:31:29.762238Z",
     "iopub.status.busy": "2022-06-09T22:31:29.761677Z",
     "iopub.status.idle": "2022-06-09T22:31:29.768791Z",
     "shell.execute_reply": "2022-06-09T22:31:29.768235Z"
    },
    "papermill": {
     "duration": 0.045835,
     "end_time": "2022-06-09T22:31:29.768934",
     "exception": false,
     "start_time": "2022-06-09T22:31:29.723099",
     "status": "completed"
    },
    "tags": []
   },
   "outputs": [
    {
     "data": {
      "text/plain": [
       "gender            int64\n",
       "height            int64\n",
       "weight          float64\n",
       "bmi             float64\n",
       "ap_hi             int64\n",
       "ap_lo             int64\n",
       "MAP             float64\n",
       "years             int32\n",
       "age_bin        category\n",
       "BMI_Class         int64\n",
       "MAP_Class         int64\n",
       "cholesterol       int64\n",
       "gluc              int64\n",
       "smoke             int64\n",
       "active            int64\n",
       "cardio            int64\n",
       "dtype: object"
      ]
     },
     "execution_count": 31,
     "metadata": {},
     "output_type": "execute_result"
    }
   ],
   "source": [
    "df.dtypes"
   ]
  },
  {
   "cell_type": "code",
   "execution_count": 32,
   "id": "9d25d3b7",
   "metadata": {
    "execution": {
     "iopub.execute_input": "2022-06-09T22:31:29.918392Z",
     "iopub.status.busy": "2022-06-09T22:31:29.917819Z",
     "iopub.status.idle": "2022-06-09T22:31:29.921384Z",
     "shell.execute_reply": "2022-06-09T22:31:29.920960Z"
    },
    "papermill": {
     "duration": 0.042878,
     "end_time": "2022-06-09T22:31:29.921522",
     "exception": false,
     "start_time": "2022-06-09T22:31:29.878644",
     "status": "completed"
    },
    "tags": []
   },
   "outputs": [],
   "source": [
    "# only Categorical Data Columns DataFrame\n",
    "cat_columns = [\"age_bin\"]"
   ]
  },
  {
   "cell_type": "code",
   "execution_count": 33,
   "id": "9b67749d",
   "metadata": {
    "execution": {
     "iopub.execute_input": "2022-06-09T22:31:30.000327Z",
     "iopub.status.busy": "2022-06-09T22:31:29.998710Z",
     "iopub.status.idle": "2022-06-09T22:31:30.002993Z",
     "shell.execute_reply": "2022-06-09T22:31:30.002531Z"
    },
    "papermill": {
     "duration": 0.045318,
     "end_time": "2022-06-09T22:31:30.003126",
     "exception": false,
     "start_time": "2022-06-09T22:31:29.957808",
     "status": "completed"
    },
    "tags": []
   },
   "outputs": [],
   "source": [
    "# from sklearn import preprocessing\n",
    "# le = preprocessing.LabelEncoder()\n",
    "# df[cat_columns] = le.fit_transform(df[cat_columns])\n",
    "# df.head()"
   ]
  },
  {
   "cell_type": "code",
   "execution_count": 34,
   "id": "673db808",
   "metadata": {
    "execution": {
     "iopub.execute_input": "2022-06-09T22:31:30.085083Z",
     "iopub.status.busy": "2022-06-09T22:31:30.084448Z",
     "iopub.status.idle": "2022-06-09T22:31:30.099943Z",
     "shell.execute_reply": "2022-06-09T22:31:30.100366Z"
    },
    "papermill": {
     "duration": 0.060644,
     "end_time": "2022-06-09T22:31:30.100534",
     "exception": false,
     "start_time": "2022-06-09T22:31:30.039890",
     "status": "completed"
    },
    "tags": []
   },
   "outputs": [
    {
     "data": {
      "text/html": [
       "<div>\n",
       "<style scoped>\n",
       "    .dataframe tbody tr th:only-of-type {\n",
       "        vertical-align: middle;\n",
       "    }\n",
       "\n",
       "    .dataframe tbody tr th {\n",
       "        vertical-align: top;\n",
       "    }\n",
       "\n",
       "    .dataframe thead th {\n",
       "        text-align: right;\n",
       "    }\n",
       "</style>\n",
       "<table border=\"1\" class=\"dataframe\">\n",
       "  <thead>\n",
       "    <tr style=\"text-align: right;\">\n",
       "      <th></th>\n",
       "      <th>gender</th>\n",
       "      <th>height</th>\n",
       "      <th>weight</th>\n",
       "      <th>bmi</th>\n",
       "      <th>ap_hi</th>\n",
       "      <th>ap_lo</th>\n",
       "      <th>MAP</th>\n",
       "      <th>years</th>\n",
       "      <th>age_bin</th>\n",
       "      <th>BMI_Class</th>\n",
       "      <th>MAP_Class</th>\n",
       "      <th>cholesterol</th>\n",
       "      <th>gluc</th>\n",
       "      <th>smoke</th>\n",
       "      <th>active</th>\n",
       "      <th>cardio</th>\n",
       "    </tr>\n",
       "  </thead>\n",
       "  <tbody>\n",
       "    <tr>\n",
       "      <th>0</th>\n",
       "      <td>2</td>\n",
       "      <td>168</td>\n",
       "      <td>62.0</td>\n",
       "      <td>21.967120</td>\n",
       "      <td>110</td>\n",
       "      <td>80</td>\n",
       "      <td>90.000000</td>\n",
       "      <td>50</td>\n",
       "      <td>2</td>\n",
       "      <td>2</td>\n",
       "      <td>4</td>\n",
       "      <td>1</td>\n",
       "      <td>1</td>\n",
       "      <td>0</td>\n",
       "      <td>1</td>\n",
       "      <td>0</td>\n",
       "    </tr>\n",
       "    <tr>\n",
       "      <th>1</th>\n",
       "      <td>1</td>\n",
       "      <td>156</td>\n",
       "      <td>85.0</td>\n",
       "      <td>34.927679</td>\n",
       "      <td>140</td>\n",
       "      <td>90</td>\n",
       "      <td>106.666667</td>\n",
       "      <td>55</td>\n",
       "      <td>3</td>\n",
       "      <td>5</td>\n",
       "      <td>5</td>\n",
       "      <td>3</td>\n",
       "      <td>1</td>\n",
       "      <td>0</td>\n",
       "      <td>1</td>\n",
       "      <td>1</td>\n",
       "    </tr>\n",
       "    <tr>\n",
       "      <th>2</th>\n",
       "      <td>1</td>\n",
       "      <td>165</td>\n",
       "      <td>64.0</td>\n",
       "      <td>23.507805</td>\n",
       "      <td>130</td>\n",
       "      <td>70</td>\n",
       "      <td>90.000000</td>\n",
       "      <td>52</td>\n",
       "      <td>3</td>\n",
       "      <td>2</td>\n",
       "      <td>4</td>\n",
       "      <td>3</td>\n",
       "      <td>1</td>\n",
       "      <td>0</td>\n",
       "      <td>0</td>\n",
       "      <td>1</td>\n",
       "    </tr>\n",
       "    <tr>\n",
       "      <th>3</th>\n",
       "      <td>2</td>\n",
       "      <td>169</td>\n",
       "      <td>82.0</td>\n",
       "      <td>28.710479</td>\n",
       "      <td>150</td>\n",
       "      <td>100</td>\n",
       "      <td>116.666667</td>\n",
       "      <td>48</td>\n",
       "      <td>2</td>\n",
       "      <td>3</td>\n",
       "      <td>6</td>\n",
       "      <td>1</td>\n",
       "      <td>1</td>\n",
       "      <td>0</td>\n",
       "      <td>1</td>\n",
       "      <td>1</td>\n",
       "    </tr>\n",
       "    <tr>\n",
       "      <th>4</th>\n",
       "      <td>1</td>\n",
       "      <td>156</td>\n",
       "      <td>56.0</td>\n",
       "      <td>23.011177</td>\n",
       "      <td>100</td>\n",
       "      <td>60</td>\n",
       "      <td>73.333333</td>\n",
       "      <td>48</td>\n",
       "      <td>2</td>\n",
       "      <td>2</td>\n",
       "      <td>2</td>\n",
       "      <td>1</td>\n",
       "      <td>1</td>\n",
       "      <td>0</td>\n",
       "      <td>0</td>\n",
       "      <td>0</td>\n",
       "    </tr>\n",
       "    <tr>\n",
       "      <th>...</th>\n",
       "      <td>...</td>\n",
       "      <td>...</td>\n",
       "      <td>...</td>\n",
       "      <td>...</td>\n",
       "      <td>...</td>\n",
       "      <td>...</td>\n",
       "      <td>...</td>\n",
       "      <td>...</td>\n",
       "      <td>...</td>\n",
       "      <td>...</td>\n",
       "      <td>...</td>\n",
       "      <td>...</td>\n",
       "      <td>...</td>\n",
       "      <td>...</td>\n",
       "      <td>...</td>\n",
       "      <td>...</td>\n",
       "    </tr>\n",
       "    <tr>\n",
       "      <th>60137</th>\n",
       "      <td>1</td>\n",
       "      <td>172</td>\n",
       "      <td>70.0</td>\n",
       "      <td>23.661439</td>\n",
       "      <td>130</td>\n",
       "      <td>90</td>\n",
       "      <td>103.333333</td>\n",
       "      <td>54</td>\n",
       "      <td>3</td>\n",
       "      <td>2</td>\n",
       "      <td>5</td>\n",
       "      <td>1</td>\n",
       "      <td>1</td>\n",
       "      <td>0</td>\n",
       "      <td>1</td>\n",
       "      <td>1</td>\n",
       "    </tr>\n",
       "    <tr>\n",
       "      <th>60138</th>\n",
       "      <td>1</td>\n",
       "      <td>165</td>\n",
       "      <td>80.0</td>\n",
       "      <td>29.384757</td>\n",
       "      <td>150</td>\n",
       "      <td>80</td>\n",
       "      <td>103.333333</td>\n",
       "      <td>58</td>\n",
       "      <td>3</td>\n",
       "      <td>3</td>\n",
       "      <td>5</td>\n",
       "      <td>1</td>\n",
       "      <td>1</td>\n",
       "      <td>0</td>\n",
       "      <td>1</td>\n",
       "      <td>1</td>\n",
       "    </tr>\n",
       "    <tr>\n",
       "      <th>60139</th>\n",
       "      <td>2</td>\n",
       "      <td>168</td>\n",
       "      <td>76.0</td>\n",
       "      <td>26.927438</td>\n",
       "      <td>120</td>\n",
       "      <td>80</td>\n",
       "      <td>93.333333</td>\n",
       "      <td>53</td>\n",
       "      <td>3</td>\n",
       "      <td>3</td>\n",
       "      <td>4</td>\n",
       "      <td>1</td>\n",
       "      <td>1</td>\n",
       "      <td>1</td>\n",
       "      <td>1</td>\n",
       "      <td>0</td>\n",
       "    </tr>\n",
       "    <tr>\n",
       "      <th>60140</th>\n",
       "      <td>1</td>\n",
       "      <td>163</td>\n",
       "      <td>72.0</td>\n",
       "      <td>27.099251</td>\n",
       "      <td>135</td>\n",
       "      <td>80</td>\n",
       "      <td>98.333333</td>\n",
       "      <td>61</td>\n",
       "      <td>4</td>\n",
       "      <td>3</td>\n",
       "      <td>4</td>\n",
       "      <td>1</td>\n",
       "      <td>2</td>\n",
       "      <td>0</td>\n",
       "      <td>0</td>\n",
       "      <td>1</td>\n",
       "    </tr>\n",
       "    <tr>\n",
       "      <th>60141</th>\n",
       "      <td>1</td>\n",
       "      <td>170</td>\n",
       "      <td>72.0</td>\n",
       "      <td>24.913495</td>\n",
       "      <td>120</td>\n",
       "      <td>80</td>\n",
       "      <td>93.333333</td>\n",
       "      <td>56</td>\n",
       "      <td>3</td>\n",
       "      <td>3</td>\n",
       "      <td>4</td>\n",
       "      <td>2</td>\n",
       "      <td>1</td>\n",
       "      <td>0</td>\n",
       "      <td>1</td>\n",
       "      <td>0</td>\n",
       "    </tr>\n",
       "  </tbody>\n",
       "</table>\n",
       "<p>60142 rows × 16 columns</p>\n",
       "</div>"
      ],
      "text/plain": [
       "       gender  height  weight        bmi  ap_hi  ap_lo         MAP  years  \\\n",
       "0           2     168    62.0  21.967120    110     80   90.000000     50   \n",
       "1           1     156    85.0  34.927679    140     90  106.666667     55   \n",
       "2           1     165    64.0  23.507805    130     70   90.000000     52   \n",
       "3           2     169    82.0  28.710479    150    100  116.666667     48   \n",
       "4           1     156    56.0  23.011177    100     60   73.333333     48   \n",
       "...       ...     ...     ...        ...    ...    ...         ...    ...   \n",
       "60137       1     172    70.0  23.661439    130     90  103.333333     54   \n",
       "60138       1     165    80.0  29.384757    150     80  103.333333     58   \n",
       "60139       2     168    76.0  26.927438    120     80   93.333333     53   \n",
       "60140       1     163    72.0  27.099251    135     80   98.333333     61   \n",
       "60141       1     170    72.0  24.913495    120     80   93.333333     56   \n",
       "\n",
       "      age_bin  BMI_Class  MAP_Class  cholesterol  gluc  smoke  active  cardio  \n",
       "0           2          2          4            1     1      0       1       0  \n",
       "1           3          5          5            3     1      0       1       1  \n",
       "2           3          2          4            3     1      0       0       1  \n",
       "3           2          3          6            1     1      0       1       1  \n",
       "4           2          2          2            1     1      0       0       0  \n",
       "...       ...        ...        ...          ...   ...    ...     ...     ...  \n",
       "60137       3          2          5            1     1      0       1       1  \n",
       "60138       3          3          5            1     1      0       1       1  \n",
       "60139       3          3          4            1     1      1       1       0  \n",
       "60140       4          3          4            1     2      0       0       1  \n",
       "60141       3          3          4            2     1      0       1       0  \n",
       "\n",
       "[60142 rows x 16 columns]"
      ]
     },
     "execution_count": 34,
     "metadata": {},
     "output_type": "execute_result"
    }
   ],
   "source": [
    "df"
   ]
  },
  {
   "cell_type": "code",
   "execution_count": 35,
   "id": "95830065",
   "metadata": {
    "execution": {
     "iopub.execute_input": "2022-06-09T22:31:30.179345Z",
     "iopub.status.busy": "2022-06-09T22:31:30.178736Z",
     "iopub.status.idle": "2022-06-09T22:31:30.268393Z",
     "shell.execute_reply": "2022-06-09T22:31:30.268879Z"
    },
    "papermill": {
     "duration": 0.131204,
     "end_time": "2022-06-09T22:31:30.269066",
     "exception": false,
     "start_time": "2022-06-09T22:31:30.137862",
     "status": "completed"
    },
    "tags": []
   },
   "outputs": [],
   "source": [
    "from sklearn.model_selection import train_test_split\n",
    "from sklearn.linear_model import LogisticRegression\n",
    "from sklearn import metrics"
   ]
  },
  {
   "cell_type": "code",
   "execution_count": 36,
   "id": "8ff14136",
   "metadata": {
    "execution": {
     "iopub.execute_input": "2022-06-09T22:31:30.424976Z",
     "iopub.status.busy": "2022-06-09T22:31:30.424346Z",
     "iopub.status.idle": "2022-06-09T22:31:30.466010Z",
     "shell.execute_reply": "2022-06-09T22:31:30.465388Z"
    },
    "papermill": {
     "duration": 0.085418,
     "end_time": "2022-06-09T22:31:30.466145",
     "exception": false,
     "start_time": "2022-06-09T22:31:30.380727",
     "status": "completed"
    },
    "tags": []
   },
   "outputs": [
    {
     "name": "stdout",
     "output_type": "stream",
     "text": [
      "(45106, 12)\n",
      "(45106,)\n",
      "(15036, 12)\n",
      "(15036,)\n"
     ]
    }
   ],
   "source": [
    "X = df.drop(columns=['cardio', 'bmi', 'MAP','MAP_Class']).values\n",
    "y = df['cardio']\n",
    "\n",
    "# splitting the data into training and testing sets\n",
    "X_train, X_test, y_train, y_test = train_test_split(X, y, test_size = 0.25, random_state = 2)\n",
    "print(X_train.shape)\n",
    "print(y_train.shape)\n",
    "print(X_test.shape)\n",
    "print(y_test.shape)"
   ]
  },
  {
   "cell_type": "code",
   "execution_count": 37,
   "id": "850d97ef",
   "metadata": {
    "execution": {
     "iopub.execute_input": "2022-06-09T22:31:30.546858Z",
     "iopub.status.busy": "2022-06-09T22:31:30.546264Z",
     "iopub.status.idle": "2022-06-09T22:31:30.549321Z",
     "shell.execute_reply": "2022-06-09T22:31:30.548851Z"
    },
    "papermill": {
     "duration": 0.045448,
     "end_time": "2022-06-09T22:31:30.549448",
     "exception": false,
     "start_time": "2022-06-09T22:31:30.504000",
     "status": "completed"
    },
    "tags": []
   },
   "outputs": [
    {
     "data": {
      "text/plain": [
       "dtype('int64')"
      ]
     },
     "execution_count": 37,
     "metadata": {},
     "output_type": "execute_result"
    }
   ],
   "source": [
    "y_train.dtype"
   ]
  },
  {
   "cell_type": "code",
   "execution_count": 38,
   "id": "bada9990",
   "metadata": {
    "execution": {
     "iopub.execute_input": "2022-06-09T22:31:30.651733Z",
     "iopub.status.busy": "2022-06-09T22:31:30.651151Z",
     "iopub.status.idle": "2022-06-09T22:31:31.232425Z",
     "shell.execute_reply": "2022-06-09T22:31:31.233219Z"
    },
    "papermill": {
     "duration": 0.645249,
     "end_time": "2022-06-09T22:31:31.233484",
     "exception": false,
     "start_time": "2022-06-09T22:31:30.588235",
     "status": "completed"
    },
    "tags": []
   },
   "outputs": [
    {
     "name": "stdout",
     "output_type": "stream",
     "text": [
      "Accuracy: 0.7175445597233306\n"
     ]
    }
   ],
   "source": [
    "# fitting df data to the model\n",
    "logreg = LogisticRegression(solver='liblinear')\n",
    "logreg.fit(X_train, y_train)\n",
    "\n",
    "# print(logreg1.intercept_)\n",
    "# print(logreg1.coef_)\n",
    "\n",
    "y_log = logreg.predict(X_test)\n",
    "print(\"Accuracy:\", metrics.accuracy_score(y_test, y_log))"
   ]
  },
  {
   "cell_type": "code",
   "execution_count": 39,
   "id": "30a0d7eb",
   "metadata": {
    "execution": {
     "iopub.execute_input": "2022-06-09T22:31:31.372543Z",
     "iopub.status.busy": "2022-06-09T22:31:31.371823Z",
     "iopub.status.idle": "2022-06-09T22:31:33.142879Z",
     "shell.execute_reply": "2022-06-09T22:31:33.143713Z"
    },
    "papermill": {
     "duration": 1.833082,
     "end_time": "2022-06-09T22:31:33.144015",
     "exception": false,
     "start_time": "2022-06-09T22:31:31.310933",
     "status": "completed"
    },
    "tags": []
   },
   "outputs": [
    {
     "name": "stdout",
     "output_type": "stream",
     "text": [
      "Accuracy: 0.7213354615589253\n"
     ]
    }
   ],
   "source": [
    "\n",
    "\n",
    "from sklearn.ensemble import RandomForestClassifier\n",
    "clf = RandomForestClassifier(max_depth=5)\n",
    "clf.fit(X_train, y_train)\n",
    "\n",
    "y_rf = clf.predict(X_test)\n",
    "print(\"Accuracy:\", metrics.accuracy_score(y_test, y_rf))"
   ]
  },
  {
   "cell_type": "code",
   "execution_count": 40,
   "id": "9949a669",
   "metadata": {
    "execution": {
     "iopub.execute_input": "2022-06-09T22:31:33.227747Z",
     "iopub.status.busy": "2022-06-09T22:31:33.226767Z",
     "iopub.status.idle": "2022-06-09T22:31:33.442699Z",
     "shell.execute_reply": "2022-06-09T22:31:33.443222Z"
    },
    "papermill": {
     "duration": 0.258161,
     "end_time": "2022-06-09T22:31:33.443415",
     "exception": false,
     "start_time": "2022-06-09T22:31:33.185254",
     "status": "completed"
    },
    "tags": []
   },
   "outputs": [
    {
     "name": "stdout",
     "output_type": "stream",
     "text": [
      "Accuracy: 0.626562915669061\n"
     ]
    }
   ],
   "source": [
    "from sklearn.tree import DecisionTreeClassifier\n",
    "# Decision Tree Classifier\n",
    "\n",
    "decision_tree = DecisionTreeClassifier()\n",
    "decision_tree.fit(X_train, y_train)\n",
    "\n",
    "y_dt = decision_tree.predict(X_test)\n",
    "print(\"Accuracy:\", metrics.accuracy_score(y_test, y_dt))"
   ]
  },
  {
   "cell_type": "code",
   "execution_count": 41,
   "id": "fa830f0b",
   "metadata": {},
   "outputs": [
    {
     "data": {
      "text/plain": [
       "['model h5']"
      ]
     },
     "execution_count": 41,
     "metadata": {},
     "output_type": "execute_result"
    }
   ],
   "source": [
    "import joblib\n",
    "joblib.dump(clf,'model h5')"
   ]
  },
  {
   "cell_type": "code",
   "execution_count": 42,
   "id": "4cf1a4c2",
   "metadata": {},
   "outputs": [],
   "source": [
    "import pickle\n",
    "pickle.dump(clf, open(\"./my_model.pkl\", 'wb'))\n",
    "loaded_model = pickle.load(open('my_model.pkl', 'rb'))"
   ]
  },
  {
   "cell_type": "code",
   "execution_count": null,
   "id": "8be66d0a",
   "metadata": {},
   "outputs": [],
   "source": []
  }
 ],
 "metadata": {
  "interpreter": {
   "hash": "9fd50ca3c8116444d67c22cec720435cb791e87126923eca53fbea3c3a7c0aef"
  },
  "kernelspec": {
   "display_name": "Python 3.7.6 ('base')",
   "language": "python",
   "name": "python3"
  },
  "language_info": {
   "codemirror_mode": {
    "name": "ipython",
    "version": 3
   },
   "file_extension": ".py",
   "mimetype": "text/x-python",
   "name": "python",
   "nbconvert_exporter": "python",
   "pygments_lexer": "ipython3",
   "version": "3.7.6"
  },
  "papermill": {
   "default_parameters": {},
   "duration": 17.896373,
   "end_time": "2022-06-09T22:31:35.971885",
   "environment_variables": {},
   "exception": null,
   "input_path": "__notebook__.ipynb",
   "output_path": "__notebook__.ipynb",
   "parameters": {},
   "start_time": "2022-06-09T22:31:18.075512",
   "version": "2.3.3"
  }
 },
 "nbformat": 4,
 "nbformat_minor": 5
}
